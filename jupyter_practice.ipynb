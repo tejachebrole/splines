{
 "cells": [
  {
   "cell_type": "markdown",
   "metadata": {},
   "source": [
    "###  Wage Data Analysis\n",
    "In this application (which we refer to as the Wage data set throughout this\n",
    "book), we examine a number of factors that relate to wages for a group of\n",
    "males from the Atlantic region of the United States. In particular, we wish\n",
    "to understand the association between an employee’s age and education, as\n",
    "well as the calendar year, on his wage. Consider, for example, the left-hand\n",
    "panel of Figure 1.1, which displays wage versus age for each of the individuals\n",
    "in the data set. There is evidence that wage increases with age but then\n",
    "decreases again after approximately age 60. The blue line, which provides\n",
    "an estimate of the average wage for a given age, makes this trend clearer."
   ]
  },
  {
   "cell_type": "code",
   "execution_count": 86,
   "metadata": {},
   "outputs": [],
   "source": [
    "import pandas as pd\n",
    "data=pd.read_csv('wages.csv')"
   ]
  },
  {
   "cell_type": "code",
   "execution_count": 87,
   "metadata": {},
   "outputs": [
    {
     "data": {
      "text/html": [
       "<div>\n",
       "<style>\n",
       "    .dataframe thead tr:only-child th {\n",
       "        text-align: right;\n",
       "    }\n",
       "\n",
       "    .dataframe thead th {\n",
       "        text-align: left;\n",
       "    }\n",
       "\n",
       "    .dataframe tbody tr th {\n",
       "        vertical-align: top;\n",
       "    }\n",
       "</style>\n",
       "<table border=\"1\" class=\"dataframe\">\n",
       "  <thead>\n",
       "    <tr style=\"text-align: right;\">\n",
       "      <th></th>\n",
       "      <th>year</th>\n",
       "      <th>age</th>\n",
       "      <th>sex</th>\n",
       "      <th>maritl</th>\n",
       "      <th>race</th>\n",
       "      <th>education</th>\n",
       "      <th>region</th>\n",
       "      <th>jobclass</th>\n",
       "      <th>health</th>\n",
       "      <th>health_ins</th>\n",
       "      <th>logwage</th>\n",
       "      <th>wage</th>\n",
       "    </tr>\n",
       "  </thead>\n",
       "  <tbody>\n",
       "    <tr>\n",
       "      <th>0</th>\n",
       "      <td>2006</td>\n",
       "      <td>18</td>\n",
       "      <td>1. Male</td>\n",
       "      <td>1. Never Married</td>\n",
       "      <td>1. White</td>\n",
       "      <td>1. &lt; HS Grad</td>\n",
       "      <td>2. Middle Atlantic</td>\n",
       "      <td>1. Industrial</td>\n",
       "      <td>1. &lt;=Good</td>\n",
       "      <td>2. No</td>\n",
       "      <td>4.32</td>\n",
       "      <td>75.04</td>\n",
       "    </tr>\n",
       "    <tr>\n",
       "      <th>1</th>\n",
       "      <td>2004</td>\n",
       "      <td>24</td>\n",
       "      <td>1. Male</td>\n",
       "      <td>1. Never Married</td>\n",
       "      <td>1. White</td>\n",
       "      <td>4. College Grad</td>\n",
       "      <td>2. Middle Atlantic</td>\n",
       "      <td>2. Information</td>\n",
       "      <td>2. &gt;=Very Good</td>\n",
       "      <td>2. No</td>\n",
       "      <td>4.26</td>\n",
       "      <td>70.48</td>\n",
       "    </tr>\n",
       "    <tr>\n",
       "      <th>2</th>\n",
       "      <td>2003</td>\n",
       "      <td>45</td>\n",
       "      <td>1. Male</td>\n",
       "      <td>2. Married</td>\n",
       "      <td>1. White</td>\n",
       "      <td>3. Some College</td>\n",
       "      <td>2. Middle Atlantic</td>\n",
       "      <td>1. Industrial</td>\n",
       "      <td>1. &lt;=Good</td>\n",
       "      <td>1. Yes</td>\n",
       "      <td>4.88</td>\n",
       "      <td>130.98</td>\n",
       "    </tr>\n",
       "    <tr>\n",
       "      <th>3</th>\n",
       "      <td>2003</td>\n",
       "      <td>43</td>\n",
       "      <td>1. Male</td>\n",
       "      <td>2. Married</td>\n",
       "      <td>3. Asian</td>\n",
       "      <td>4. College Grad</td>\n",
       "      <td>2. Middle Atlantic</td>\n",
       "      <td>2. Information</td>\n",
       "      <td>2. &gt;=Very Good</td>\n",
       "      <td>1. Yes</td>\n",
       "      <td>5.04</td>\n",
       "      <td>154.69</td>\n",
       "    </tr>\n",
       "    <tr>\n",
       "      <th>4</th>\n",
       "      <td>2005</td>\n",
       "      <td>50</td>\n",
       "      <td>1. Male</td>\n",
       "      <td>4. Divorced</td>\n",
       "      <td>1. White</td>\n",
       "      <td>2. HS Grad</td>\n",
       "      <td>2. Middle Atlantic</td>\n",
       "      <td>2. Information</td>\n",
       "      <td>1. &lt;=Good</td>\n",
       "      <td>1. Yes</td>\n",
       "      <td>4.32</td>\n",
       "      <td>75.04</td>\n",
       "    </tr>\n",
       "  </tbody>\n",
       "</table>\n",
       "</div>"
      ],
      "text/plain": [
       "   year  age      sex            maritl      race        education  \\\n",
       "0  2006   18  1. Male  1. Never Married  1. White     1. < HS Grad   \n",
       "1  2004   24  1. Male  1. Never Married  1. White  4. College Grad   \n",
       "2  2003   45  1. Male        2. Married  1. White  3. Some College   \n",
       "3  2003   43  1. Male        2. Married  3. Asian  4. College Grad   \n",
       "4  2005   50  1. Male       4. Divorced  1. White       2. HS Grad   \n",
       "\n",
       "               region        jobclass          health health_ins  logwage  \\\n",
       "0  2. Middle Atlantic   1. Industrial       1. <=Good      2. No     4.32   \n",
       "1  2. Middle Atlantic  2. Information  2. >=Very Good      2. No     4.26   \n",
       "2  2. Middle Atlantic   1. Industrial       1. <=Good     1. Yes     4.88   \n",
       "3  2. Middle Atlantic  2. Information  2. >=Very Good     1. Yes     5.04   \n",
       "4  2. Middle Atlantic  2. Information       1. <=Good     1. Yes     4.32   \n",
       "\n",
       "    wage  \n",
       "0  75.04  \n",
       "1  70.48  \n",
       "2 130.98  \n",
       "3 154.69  \n",
       "4  75.04  "
      ]
     },
     "execution_count": 87,
     "metadata": {},
     "output_type": "execute_result"
    }
   ],
   "source": [
    "data.head()"
   ]
  },
  {
   "cell_type": "code",
   "execution_count": 88,
   "metadata": {},
   "outputs": [
    {
     "data": {
      "text/html": [
       "<div>\n",
       "<style>\n",
       "    .dataframe thead tr:only-child th {\n",
       "        text-align: right;\n",
       "    }\n",
       "\n",
       "    .dataframe thead th {\n",
       "        text-align: left;\n",
       "    }\n",
       "\n",
       "    .dataframe tbody tr th {\n",
       "        vertical-align: top;\n",
       "    }\n",
       "</style>\n",
       "<table border=\"1\" class=\"dataframe\">\n",
       "  <thead>\n",
       "    <tr style=\"text-align: right;\">\n",
       "      <th></th>\n",
       "      <th>year</th>\n",
       "      <th>age</th>\n",
       "      <th>logwage</th>\n",
       "      <th>wage</th>\n",
       "    </tr>\n",
       "  </thead>\n",
       "  <tbody>\n",
       "    <tr>\n",
       "      <th>count</th>\n",
       "      <td>3000.00</td>\n",
       "      <td>3000.00</td>\n",
       "      <td>3000.00</td>\n",
       "      <td>3000.00</td>\n",
       "    </tr>\n",
       "    <tr>\n",
       "      <th>mean</th>\n",
       "      <td>2005.79</td>\n",
       "      <td>42.41</td>\n",
       "      <td>4.65</td>\n",
       "      <td>111.70</td>\n",
       "    </tr>\n",
       "    <tr>\n",
       "      <th>std</th>\n",
       "      <td>2.03</td>\n",
       "      <td>11.54</td>\n",
       "      <td>0.35</td>\n",
       "      <td>41.73</td>\n",
       "    </tr>\n",
       "    <tr>\n",
       "      <th>min</th>\n",
       "      <td>2003.00</td>\n",
       "      <td>18.00</td>\n",
       "      <td>3.00</td>\n",
       "      <td>20.09</td>\n",
       "    </tr>\n",
       "    <tr>\n",
       "      <th>25%</th>\n",
       "      <td>2004.00</td>\n",
       "      <td>33.75</td>\n",
       "      <td>4.45</td>\n",
       "      <td>85.38</td>\n",
       "    </tr>\n",
       "    <tr>\n",
       "      <th>50%</th>\n",
       "      <td>2006.00</td>\n",
       "      <td>42.00</td>\n",
       "      <td>4.65</td>\n",
       "      <td>104.92</td>\n",
       "    </tr>\n",
       "    <tr>\n",
       "      <th>75%</th>\n",
       "      <td>2008.00</td>\n",
       "      <td>51.00</td>\n",
       "      <td>4.86</td>\n",
       "      <td>128.68</td>\n",
       "    </tr>\n",
       "    <tr>\n",
       "      <th>max</th>\n",
       "      <td>2009.00</td>\n",
       "      <td>80.00</td>\n",
       "      <td>5.76</td>\n",
       "      <td>318.34</td>\n",
       "    </tr>\n",
       "  </tbody>\n",
       "</table>\n",
       "</div>"
      ],
      "text/plain": [
       "         year     age  logwage    wage\n",
       "count 3000.00 3000.00  3000.00 3000.00\n",
       "mean  2005.79   42.41     4.65  111.70\n",
       "std      2.03   11.54     0.35   41.73\n",
       "min   2003.00   18.00     3.00   20.09\n",
       "25%   2004.00   33.75     4.45   85.38\n",
       "50%   2006.00   42.00     4.65  104.92\n",
       "75%   2008.00   51.00     4.86  128.68\n",
       "max   2009.00   80.00     5.76  318.34"
      ]
     },
     "execution_count": 88,
     "metadata": {},
     "output_type": "execute_result"
    }
   ],
   "source": [
    "data.describe()"
   ]
  },
  {
   "cell_type": "code",
   "execution_count": 89,
   "metadata": {},
   "outputs": [
    {
     "data": {
      "text/plain": [
       "sex           object\n",
       "maritl        object\n",
       "race          object\n",
       "education     object\n",
       "region        object\n",
       "jobclass      object\n",
       "health        object\n",
       "health_ins    object\n",
       "dtype: object"
      ]
     },
     "execution_count": 89,
     "metadata": {},
     "output_type": "execute_result"
    }
   ],
   "source": [
    "data.dtypes[data.dtypes==object]"
   ]
  },
  {
   "cell_type": "code",
   "execution_count": 90,
   "metadata": {
    "collapsed": true
   },
   "outputs": [],
   "source": [
    "pd.options.display.float_format = '{:.2f}'.format\n",
    "pd.set_option('display.precision',3)"
   ]
  },
  {
   "cell_type": "code",
   "execution_count": 91,
   "metadata": {},
   "outputs": [
    {
     "data": {
      "text/html": [
       "<div>\n",
       "<style>\n",
       "    .dataframe thead tr:only-child th {\n",
       "        text-align: right;\n",
       "    }\n",
       "\n",
       "    .dataframe thead th {\n",
       "        text-align: left;\n",
       "    }\n",
       "\n",
       "    .dataframe tbody tr th {\n",
       "        vertical-align: top;\n",
       "    }\n",
       "</style>\n",
       "<table border=\"1\" class=\"dataframe\">\n",
       "  <thead>\n",
       "    <tr style=\"text-align: right;\">\n",
       "      <th></th>\n",
       "      <th>age</th>\n",
       "      <th>wage</th>\n",
       "    </tr>\n",
       "    <tr>\n",
       "      <th>race</th>\n",
       "      <th></th>\n",
       "      <th></th>\n",
       "    </tr>\n",
       "  </thead>\n",
       "  <tbody>\n",
       "    <tr>\n",
       "      <th>1. White</th>\n",
       "      <td>42.39</td>\n",
       "      <td>112.56</td>\n",
       "    </tr>\n",
       "    <tr>\n",
       "      <th>2. Black</th>\n",
       "      <td>43.56</td>\n",
       "      <td>101.60</td>\n",
       "    </tr>\n",
       "    <tr>\n",
       "      <th>3. Asian</th>\n",
       "      <td>41.82</td>\n",
       "      <td>120.29</td>\n",
       "    </tr>\n",
       "    <tr>\n",
       "      <th>4. Other</th>\n",
       "      <td>37.70</td>\n",
       "      <td>89.97</td>\n",
       "    </tr>\n",
       "  </tbody>\n",
       "</table>\n",
       "</div>"
      ],
      "text/plain": [
       "           age   wage\n",
       "race                 \n",
       "1. White 42.39 112.56\n",
       "2. Black 43.56 101.60\n",
       "3. Asian 41.82 120.29\n",
       "4. Other 37.70  89.97"
      ]
     },
     "execution_count": 91,
     "metadata": {},
     "output_type": "execute_result"
    }
   ],
   "source": [
    "data.groupby(by='race')['age','wage'].mean()"
   ]
  },
  {
   "cell_type": "code",
   "execution_count": 92,
   "metadata": {},
   "outputs": [
    {
     "data": {
      "image/png": "[encoded data removed]",
      "text/plain": [
       "<matplotlib.figure.Figure at 0x10355198>"
      ]
     },
     "metadata": {},
     "output_type": "display_data"
    },
    {
     "data": {
      "image/png": "[encoded data removed]",
      "text/plain": [
       "<matplotlib.figure.Figure at 0x10157630>"
      ]
     },
     "metadata": {},
     "output_type": "display_data"
    }
   ],
   "source": [
    "%matplotlib inline\n",
    "import matplotlib.pyplot as plt\n",
    "from IPython.display import display\n",
    "import seaborn as sns\n",
    "#fig, axs = plt.subplots(1,2)\n",
    "axs=sns.boxplot(x='maritl', y='wage', data=data,showfliers=False,linewidth=2) #ax =\n",
    "plt.show()\n",
    "axs2=sns.boxplot(x='education', y='wage', data=data,showfliers=False,linewidth=2)\n",
    "plt.show()\n",
    "#display(ax)"
   ]
  },
  {
   "cell_type": "markdown",
   "metadata": {},
   "source": [
    "Linear Regression"
   ]
  },
  {
   "cell_type": "code",
   "execution_count": 93,
   "metadata": {},
   "outputs": [],
   "source": [
    "# divide the data into test and train data\n",
    "from sklearn.model_selection import train_test_split\n",
    "data_y=data['wage']\n",
    "data_x=data[['age','race','education','maritl','health','jobclass']]\n",
    "train_x, valid_x, train_y, valid_y = train_test_split(data_x, data_y, test_size=0.33, random_state = 1)"
   ]
  },
  {
   "cell_type": "code",
   "execution_count": 94,
   "metadata": {},
   "outputs": [
    {
     "name": "stdout",
     "output_type": "stream",
     "text": [
      "[  4.3811387    0.94412052   2.06640791  -7.39166713  10.1653079\n",
      "  21.33083198  35.44900086  60.51695761   5.71240768  17.38925058\n",
      "  -0.10191786   3.62398662  11.80485451   5.49775874   0.34513129]\n",
      "49.5731413675\n"
     ]
    }
   ],
   "source": [
    "# handle the categorical variables through patsy\n",
    "# Fitting linear regression model\n",
    "from sklearn.linear_model import LinearRegression\n",
    "from patsy import dmatrices, dmatrix\n",
    "c=dmatrix(\"train_x['age']+train_x['race']+train_x['education']+train_x['jobclass']+\\\n",
    "            train_x['maritl']+train_x['health']-1\",train_x)\n",
    "model = LinearRegression()\n",
    "model.fit(c,train_y)\n",
    "print(model.coef_)\n",
    "print(model.intercept_)"
   ]
  },
  {
   "cell_type": "code",
   "execution_count": 95,
   "metadata": {},
   "outputs": [
    {
     "name": "stdout",
     "output_type": "stream",
     "text": [
      "34.55035914767023\n"
     ]
    }
   ],
   "source": [
    "# Prediction on validation dataset\n",
    "d=dmatrix(\"valid_x['age']+valid_x['race']+valid_x['education']+valid_x['jobclass']\\\n",
    "            + valid_x['maritl']+valid_x['health']-1\",valid_x)\n",
    "pred = model.predict(d)\n",
    "from sklearn.metrics import mean_squared_error\n",
    "from math import sqrt\n",
    "\n",
    "rms = sqrt(mean_squared_error(valid_y, pred))\n",
    "print(rms)\n"
   ]
  },
  {
   "cell_type": "code",
   "execution_count": 96,
   "metadata": {},
   "outputs": [
    {
     "data": {
      "text/plain": [
       "<matplotlib.axes._subplots.AxesSubplot at 0x103ad908>"
      ]
     },
     "execution_count": 96,
     "metadata": {},
     "output_type": "execute_result"
    },
    {
     "data": {
      "image/png": "[encoded data removed]",
      "text/plain": [
       "<matplotlib.figure.Figure at 0x102826a0>"
      ]
     },
     "metadata": {},
     "output_type": "display_data"
    }
   ],
   "source": [
    "# 3D Visualisation\n",
    "# We will use 70 plots between minimum and maximum values of valid_x for plotting\n",
    "\n",
    "import seaborn as sns\n",
    "sns.set(style=\"whitegrid\", color_codes=True)\n",
    "sns.boxplot(x=\"race\", y=\"wage\", data=data)\n"
   ]
  },
  {
   "cell_type": "markdown",
   "metadata": {},
   "source": [
    "Polynomial Regression"
   ]
  },
  {
   "cell_type": "code",
   "execution_count": 117,
   "metadata": {},
   "outputs": [
    {
     "data": {
      "text/plain": [
       "LinearRegression(copy_X=True, fit_intercept=True, n_jobs=1, normalize=False)"
      ]
     },
     "execution_count": 117,
     "metadata": {},
     "output_type": "execute_result"
    }
   ],
   "source": [
    "from sklearn.preprocessing import PolynomialFeatures\n",
    "from sklearn import linear_model\n",
    "poly = PolynomialFeatures(degree=2)\n",
    "c_ = poly.fit_transform(c)\n",
    "clf = linear_model.LinearRegression()\n",
    "clf.fit(c_, train_y)\n",
    "#print(clf.coef_);"
   ]
  },
  {
   "cell_type": "code",
   "execution_count": 118,
   "metadata": {},
   "outputs": [
    {
     "name": "stdout",
     "output_type": "stream",
     "text": [
      "34.30255123883968\n"
     ]
    }
   ],
   "source": [
    "d_=poly.fit_transform(d)\n",
    "pred = clf.predict(d_)\n",
    "from sklearn.metrics import mean_squared_error\n",
    "from math import sqrt\n",
    "rms = sqrt(mean_squared_error(valid_y, pred))\n",
    "print(rms)"
   ]
  },
  {
   "cell_type": "markdown",
   "metadata": {},
   "source": [
    "Using Splines"
   ]
  },
  {
   "cell_type": "code",
   "execution_count": null,
   "metadata": {
    "collapsed": true
   },
   "outputs": [],
   "source": []
  }
 ],
 "metadata": {
  "kernelspec": {
   "display_name": "Python 3",
   "language": "python",
   "name": "python3"
  },
  "language_info": {
   "codemirror_mode": {
    "name": "ipython",
    "version": 3
   },
   "file_extension": ".py",
   "mimetype": "text/x-python",
   "name": "python",
   "nbconvert_exporter": "python",
   "pygments_lexer": "ipython3",
   "version": "3.6.1"
  }
 },
 "nbformat": 4,
 "nbformat_minor": 2
}
